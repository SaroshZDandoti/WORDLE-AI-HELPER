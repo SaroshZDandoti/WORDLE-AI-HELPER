{
 "cells": [
  {
   "cell_type": "markdown",
   "metadata": {},
   "source": [
    "# Loading the Oxford Dictionary Dataset    \n",
    "Trim out only the 5 letter  words      \n",
    "\n",
    "Scroll below to use the current version.   \n",
    "Run the first cell to load the dataset."
   ]
  },
  {
   "cell_type": "code",
   "execution_count": 1,
   "metadata": {},
   "outputs": [],
   "source": [
    "import pandas as pd\n",
    "myfile = open(\"words.txt\", \"r\")\n",
    "words = []\n",
    "\n",
    "while myfile:\n",
    "    line  = myfile.readline().rstrip(\"\\n\")\n",
    "    if len(line) == 5:\n",
    "        words.append(line)\n",
    "    if line == \"\":\n",
    "        break\n",
    "myfile.close() \n",
    "\n",
    "print(len(words))"
   ]
  },
  {
   "cell_type": "markdown",
   "metadata": {},
   "source": [
    "# Enter the WORDLE word    \n",
    "This word will be used to set green , yellow , red flags."
   ]
  },
  {
   "cell_type": "code",
   "execution_count": 3,
   "metadata": {},
   "outputs": [
    {
     "name": "stdout",
     "output_type": "stream",
     "text": [
      "['c', 'r', 'a', 'n', 'e']\n"
     ]
    }
   ],
   "source": [
    "WORDLE = \"CRANE\".lower()\n",
    "\n",
    "\n",
    "def split(word):\n",
    "    return [char for char in word]\n",
    "     \n",
    "WORDLELIST = split(WORDLE)\n",
    "print(WORDLELIST)"
   ]
  },
  {
   "cell_type": "markdown",
   "metadata": {},
   "source": [
    "### Create the WORDLE varibles"
   ]
  },
  {
   "cell_type": "code",
   "execution_count": 4,
   "metadata": {},
   "outputs": [],
   "source": [
    "BOX = [\n",
    "    [0,0,0,0,0],\n",
    "    [0,0,0,0,0],\n",
    "    [0,0,0,0,0],\n",
    "    [0,0,0,0,0],\n",
    "    [0,0,0,0,0],\n",
    "    [0,0,0,0,0]\n",
    "]\n",
    "\n",
    "flagstype = [\"green\", \"yellow\",\"red\"]\n",
    "\n",
    "flags = [\n",
    "    [0,0,0,0,0],\n",
    "    [0,0,0,0,0],\n",
    "    [0,0,0,0,0],\n",
    "    [0,0,0,0,0],\n",
    "    [0,0,0,0,0],\n",
    "    [0,0,0,0,0]\n",
    "]\n",
    "\n",
    "def setflagcolor(color,position, turn):\n",
    "    if color == \"green\":\n",
    "        flags[turn][position] = color\n",
    "    if color == \"yellow\":\n",
    "        flags[turn][position] = color\n",
    "    if color == \"red\":\n",
    "        flags[turn][position] = color\n",
    "\n",
    "def fixletter(letter, postion, turn):\n",
    "    BOX[turn][postion] = letter\n",
    "    "
   ]
  },
  {
   "cell_type": "code",
   "execution_count": 5,
   "metadata": {},
   "outputs": [
    {
     "name": "stdout",
     "output_type": "stream",
     "text": [
      "Counter({'a': 7247, 'e': 6728, 's': 5871, 'r': 4864, 'i': 4767, 'o': 4613, 'l': 3923, 't': 3866, 'n': 3773, 'u': 3241, 'd': 2639, 'c': 2588, 'y': 2476, 'm': 2361, 'h': 2223, 'p': 2148, 'b': 1936, 'g': 1867, 'k': 1663, 'w': 1160, 'f': 1115, 'v': 853, 'z': 435, 'j': 372, 'x': 357, 'q': 139})\n",
      "26\n"
     ]
    }
   ],
   "source": [
    "from collections import Counter\n",
    "\n",
    "cnt = Counter()\n",
    "for word in words:\n",
    "      for letter in set(word):\n",
    "          cnt[letter]+=1\n",
    "\n",
    "print(cnt)\n",
    "\n",
    "print(len(cnt))"
   ]
  },
  {
   "cell_type": "markdown",
   "metadata": {},
   "source": [
    "### Most common letters in the 5 letter words data    \n",
    "a , e , s , r , i , o , l , t , n ,u ,d , c , y , m , h , p , b , g , k , w , f , v , z , j , x , q \n"
   ]
  },
  {
   "cell_type": "code",
   "execution_count": 13,
   "metadata": {},
   "outputs": [
    {
     "name": "stdout",
     "output_type": "stream",
     "text": [
      "[7247, 2278, 654, 153, 5]\n",
      "['aesir', 'aries', 'arise', 'raise', 'serai']\n"
     ]
    }
   ],
   "source": [
    "counts = [0,0,0,0,0]\n",
    "\n",
    "letters1 = [\"a\",\"e\",\"s\",\"r\",\"i\"]\n",
    "letters2 = [ \"o\" , \"l\" , \"t\" , \"n\" ,\"u\"]\n",
    "letters3 = [\"d\" , \"c\" , \"y\" , 'm' , \"h\"]\n",
    "letters4 = ['p' , \"b\" , \"g\" , 'k' , \"w\"]\n",
    "letters5 = [\"f\" , \"v\" , \"z\" , \"j\" , 'x']\n",
    "letters6 = [\"q\"]\n",
    "\n",
    "words1 = []\n",
    "words2 = []\n",
    "words3 = []\n",
    "words4 = []\n",
    "words5 = []\n",
    "\n",
    "\n",
    "for i in range(0,len(words)):\n",
    "    if words[i].__contains__(\"a\"):\n",
    "        counts[0] = counts[0] + 1\n",
    "\n",
    "        if words[i].__contains__(\"e\"):\n",
    "            counts[1] = counts[1] + 1\n",
    "\n",
    "            if words[i].__contains__(\"s\"):\n",
    "                 counts[2] = counts[2] + 1\n",
    "\n",
    "                 if words[i].__contains__(\"r\"):\n",
    "                    counts[3] = counts[3] + 1\n",
    "                    #print(words[i])\n",
    "\n",
    "                    if words[i].__contains__(\"i\"):\n",
    "                        counts[4] = counts[4] + 1\n",
    "                        words1.append(words[i])\n",
    "        \n",
    "        \n",
    "            \n",
    "                    \n",
    "\n",
    "        \n",
    "            \n",
    "print(counts)\n",
    "print(words1)   "
   ]
  },
  {
   "cell_type": "code",
   "execution_count": 7,
   "metadata": {},
   "outputs": [
    {
     "name": "stdout",
     "output_type": "stream",
     "text": [
      "Playing the first Chance: \n",
      "FLAGS BOX\n",
      "   yellow  green  red  red  green\n",
      "0       0      0    0    0      0\n",
      "1       0      0    0    0      0\n",
      "2       0      0    0    0      0\n",
      "3       0      0    0    0      0\n",
      "4       0      0    0    0      0\n",
      "\n",
      " WORDLE BOX\n",
      "   0  r  0  0  e\n",
      "0  0  0  0  0  0\n",
      "1  0  0  0  0  0\n",
      "2  0  0  0  0  0\n",
      "3  0  0  0  0  0\n",
      "4  0  0  0  0  0\n"
     ]
    },
    {
     "ename": "NameError",
     "evalue": "name 'getInputWord' is not defined",
     "output_type": "error",
     "traceback": [
      "\u001b[1;31m---------------------------------------------------------------------------\u001b[0m",
      "\u001b[1;31mNameError\u001b[0m                                 Traceback (most recent call last)",
      "\u001b[1;32m~\\AppData\\Local\\Temp/ipykernel_8036/917388587.py\u001b[0m in \u001b[0;36m<module>\u001b[1;34m\u001b[0m\n\u001b[0;32m     46\u001b[0m \u001b[1;33m\u001b[0m\u001b[0m\n\u001b[0;32m     47\u001b[0m \u001b[1;33m\u001b[0m\u001b[0m\n\u001b[1;32m---> 48\u001b[1;33m     \u001b[0minputword\u001b[0m \u001b[1;33m=\u001b[0m \u001b[0mgetInputWord\u001b[0m\u001b[1;33m(\u001b[0m \u001b[0mfixedpos\u001b[0m\u001b[1;33m,\u001b[0m \u001b[0mfixed\u001b[0m \u001b[1;33m,\u001b[0m \u001b[0mexclude\u001b[0m \u001b[1;33m,\u001b[0m \u001b[0misPresent\u001b[0m\u001b[1;33m,\u001b[0m \u001b[0mturn\u001b[0m\u001b[1;33m)\u001b[0m\u001b[1;33m\u001b[0m\u001b[1;33m\u001b[0m\u001b[0m\n\u001b[0m\u001b[0;32m     49\u001b[0m \u001b[1;33m\u001b[0m\u001b[0m\n",
      "\u001b[1;31mNameError\u001b[0m: name 'getInputWord' is not defined"
     ]
    }
   ],
   "source": [
    "\n",
    "fixed = []\n",
    "fixedpos = []\n",
    "exclude = []\n",
    "isPresent = []\n",
    "\n",
    "\n",
    "\n",
    "\n",
    "for turn in range(0,6):\n",
    "\n",
    "    if turn == 0 :\n",
    "        print(\"Playing the first Chance: \")\n",
    "        #inputword = firstchance()\n",
    "    \n",
    "    for i in range(0,len(WORDLELIST)):\n",
    "\n",
    "\n",
    "\n",
    "        if inputword[i] not in WORDLELIST:\n",
    "            setflagcolor(flagstype[2], i, turn)\n",
    "            exclude.append(inputword[i])   \n",
    "\n",
    "        if WORDLELIST.__contains__(inputword[i]):\n",
    "            setflagcolor(flagstype[1], i, turn)\n",
    "            isPresent.append(inputword[i])\n",
    "\n",
    "        if WORDLELIST[i] == inputword[i]:\n",
    "            setflagcolor(flagstype[0], i, turn)\n",
    "            fixletter(inputword[i], i,turn)\n",
    "            fixed.append(inputword[i]) \n",
    "            fixedpos.append( i )  \n",
    "\n",
    "\n",
    "    df1 = pd.DataFrame(flags[1:],columns=flags[0])\n",
    "    df2 = pd.DataFrame(BOX[1:],columns=BOX[0])\n",
    "    print(\"FLAGS BOX\")\n",
    "    print(df1)\n",
    "    print(\"\\n WORDLE BOX\")\n",
    "    print(df2)\n",
    "\n",
    "        \n",
    "    \n",
    "\n",
    "    \n",
    "    inputword = getInputWord( fixedpos, fixed , exclude , isPresent, turn)\n",
    "\n"
   ]
  },
  {
   "cell_type": "markdown",
   "metadata": {},
   "source": [
    "# Main Game Wordle Testing"
   ]
  },
  {
   "cell_type": "markdown",
   "metadata": {},
   "source": [
    "### How to Use?  \n",
    "1. Put the yellow words in the contains list using quotations and commas.   \n",
    "2. Put the green words in the fixed list and in the fixedpos list enter their positions. Note: the First letter position is 0, so 0 - 4.   \n",
    "3. Put the greyed out letter (not present in the word letters) in the exclude list.\n",
    "\n",
    "I generally use the word ARISE, MONTH or CRANE to eliminate most options.   \n",
    " ARISE because it has the 3 vowels and R and S too are common occuring letters.    \n",
    "Check the analysis above to infer.    \n",
    "I am working constantly on this code and will be  updated to play and suggest the entire word by itself.      \n",
    "Till then Enjoy this piece of code below.  "
   ]
  },
  {
   "cell_type": "code",
   "execution_count": 14,
   "metadata": {},
   "outputs": [
    {
     "data": {
      "text/plain": [
       "['focus', 'fogus']"
      ]
     },
     "execution_count": 14,
     "metadata": {},
     "output_type": "execute_result"
    }
   ],
   "source": [
    "contains = [\"s\"]\n",
    "containspos = []\n",
    "\n",
    "\n",
    "fixed = [\"f\",\"o\",\"s\"]\n",
    "\n",
    "fixedpos = [0,1,4]\n",
    "exclude = [ \"m\",\"n\",\"t\",\"r\",\"h\",\"i\",\"a\",\"e\",\"l\",\"d\"]\n",
    "\n",
    "def checkFixPosition(pos, fix , word):\n",
    "    count = 0\n",
    "    for i in range(0,len(word)):\n",
    "        for j in range(0,len(fix)):\n",
    "            if fix[j] == word[i] and pos[j] == i:\n",
    "                count  = count + 1\n",
    "            \n",
    "    if count == len(fix):\n",
    "        return word\n",
    "    else: \n",
    "        return 0   \n",
    "\n",
    "def getInputWord(fixedpos, fixed , excludeList , isPresentList):\n",
    "    final = []\n",
    "    \n",
    "    for i in range(0,len(words)):\n",
    "      #Exclude\n",
    "        if not any(letter in words[i] for letter in excludeList):\n",
    "          #print(words[i])\n",
    "          #Contains\n",
    "          if all(ele in words[i] for ele in isPresentList):\n",
    "            #print(words[i])\n",
    "            #Fixed\n",
    "            if checkFixPosition(fixedpos , fixed , words[i]) !=0 :\n",
    "                final.append( checkFixPosition(fixedpos , fixed , words[i])  )\n",
    "                #print(\"ehllo\")\n",
    "    \n",
    "\n",
    "    return final\n",
    "\n",
    "\n",
    "getInputWord( fixedpos, fixed , exclude , contains )\n"
   ]
  },
  {
   "cell_type": "markdown",
   "metadata": {},
   "source": [
    "# Thank You"
   ]
  }
 ],
 "metadata": {
  "interpreter": {
   "hash": "92c53777c7e45b4084d16b9941c1ff1c739a249f1654c0159592f90e5d117398"
  },
  "kernelspec": {
   "display_name": "Python 3.9.7 ('base')",
   "language": "python",
   "name": "python3"
  },
  "language_info": {
   "codemirror_mode": {
    "name": "ipython",
    "version": 3
   },
   "file_extension": ".py",
   "mimetype": "text/x-python",
   "name": "python",
   "nbconvert_exporter": "python",
   "pygments_lexer": "ipython3",
   "version": "3.9.7"
  },
  "orig_nbformat": 4
 },
 "nbformat": 4,
 "nbformat_minor": 2
}
